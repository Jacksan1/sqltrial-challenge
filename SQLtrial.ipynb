{
  "nbformat": 4,
  "nbformat_minor": 0,
  "metadata": {
    "colab": {
      "provenance": []
    },
    "kernelspec": {
      "name": "python3",
      "display_name": "Python 3"
    },
    "language_info": {
      "name": "python"
    }
  },
  "cells": [
    {
      "cell_type": "code",
      "execution_count": 1,
      "metadata": {
        "id": "qK39Cn8GDdts"
      },
      "outputs": [],
      "source": [
        "%load_ext sql"
      ]
    },
    {
      "cell_type": "code",
      "source": [
        "%sql sqlite:///ABC.db"
      ],
      "metadata": {
        "id": "wJse4iHLDr7J"
      },
      "execution_count": 2,
      "outputs": []
    },
    {
      "cell_type": "code",
      "source": [
        "%%sql\n",
        "CREATE TABLE customers(\n",
        "  customer_ID INT PRIMARY KEY,\n",
        "  customer_first_name VARCHAR(20),\n",
        "  customer_last_name VARCHAR(20),\n",
        "  customer_email VARCHAR(20)\n",
        ");\n"
      ],
      "metadata": {
        "colab": {
          "base_uri": "https://localhost:8080/"
        },
        "id": "20I-qa8gD2Ca",
        "outputId": "b9e3db74-5d0c-419c-b1fb-2a6c4d8405df"
      },
      "execution_count": 3,
      "outputs": [
        {
          "output_type": "stream",
          "name": "stdout",
          "text": [
            " * sqlite:///ABC.db\n",
            "Done.\n"
          ]
        },
        {
          "output_type": "execute_result",
          "data": {
            "text/plain": [
              "[]"
            ]
          },
          "metadata": {},
          "execution_count": 3
        }
      ]
    },
    {
      "cell_type": "code",
      "source": [
        "%%sql\n",
        "CREATE TABLE products(\n",
        "  product_ID INT PRIMARY KEY,\n",
        "  product_name VARCHAR(15),\n",
        "  product_price VARCHAR(15)\n",
        ");"
      ],
      "metadata": {
        "colab": {
          "base_uri": "https://localhost:8080/"
        },
        "id": "x38jK8mnGBUg",
        "outputId": "98b8f145-e6b6-4cd5-c429-acc6314b8480"
      },
      "execution_count": 4,
      "outputs": [
        {
          "output_type": "stream",
          "name": "stdout",
          "text": [
            " * sqlite:///ABC.db\n",
            "Done.\n"
          ]
        },
        {
          "output_type": "execute_result",
          "data": {
            "text/plain": [
              "[]"
            ]
          },
          "metadata": {},
          "execution_count": 4
        }
      ]
    },
    {
      "cell_type": "code",
      "source": [
        "%%sql\n",
        "CREATE TABLE orders(\n",
        "  order_ID INT PRIMARY KEY,\n",
        "  customer_ID VARCHAR(15),\n",
        "  order_date VARCHAR(15)\n",
        ");"
      ],
      "metadata": {
        "colab": {
          "base_uri": "https://localhost:8080/"
        },
        "id": "5nbrEEdjGul_",
        "outputId": "eb0d1cab-dd9c-44eb-d0c2-1cfebbe66a40"
      },
      "execution_count": 5,
      "outputs": [
        {
          "output_type": "stream",
          "name": "stdout",
          "text": [
            " * sqlite:///ABC.db\n",
            "Done.\n"
          ]
        },
        {
          "output_type": "execute_result",
          "data": {
            "text/plain": [
              "[]"
            ]
          },
          "metadata": {},
          "execution_count": 5
        }
      ]
    },
    {
      "cell_type": "code",
      "source": [
        "%%sql\n",
        "CREATE TABLE order_items(\n",
        "  order_ID INT PRIMARY KEY,\n",
        "  product_ID VARCHAR(15),\n",
        "  order_quantity VARCHAR(15)\n",
        ");"
      ],
      "metadata": {
        "colab": {
          "base_uri": "https://localhost:8080/"
        },
        "id": "DZN-Mjb-Hu9G",
        "outputId": "4a8c62c9-d1ff-4488-ffcc-b38357c32000"
      },
      "execution_count": 6,
      "outputs": [
        {
          "output_type": "stream",
          "name": "stdout",
          "text": [
            " * sqlite:///ABC.db\n",
            "Done.\n"
          ]
        },
        {
          "output_type": "execute_result",
          "data": {
            "text/plain": [
              "[]"
            ]
          },
          "metadata": {},
          "execution_count": 6
        }
      ]
    },
    {
      "cell_type": "code",
      "source": [
        "%%sql\n",
        "INSERT INTO customers (customer_ID, customer_first_name, customer_last_name, customer_email) VALUES\n",
        "    (1, 'Jack', 'San', 'jacksan@email.com'),\n",
        "    (2, 'John', 'Sam', 'johnsam@email.com'),\n",
        "    (3, 'Bob', 'Tabuke', 'bobtabuke@email.com'),\n",
        "    (4, 'Rine', 'Shiko', 'rineshiko@email.com'),\n",
        "    (5, 'Emmah', 'Nyamai', 'emmahnyamai@email.com'),\n",
        "    (6, 'Victor', 'Korat', 'victorkorat@email.com'),\n",
        "    (7, 'Edith', 'Malabi', 'edithmalabi@email.com'),\n",
        "    (8, 'Brenda', 'kawira', 'brendakawira@email.com'),\n",
        "    (9, 'Kevin', 'Karanja', 'kevinkaranja@email.com'),\n",
        "    (10, 'Prudence', 'Joy', 'prudencejoy@email.com');"
      ],
      "metadata": {
        "colab": {
          "base_uri": "https://localhost:8080/"
        },
        "id": "oVyWbk8LIZXZ",
        "outputId": "8daa92a7-4848-45e5-dd30-8a52e098c1a7"
      },
      "execution_count": 7,
      "outputs": [
        {
          "output_type": "stream",
          "name": "stdout",
          "text": [
            " * sqlite:///ABC.db\n",
            "10 rows affected.\n"
          ]
        },
        {
          "output_type": "execute_result",
          "data": {
            "text/plain": [
              "[]"
            ]
          },
          "metadata": {},
          "execution_count": 7
        }
      ]
    },
    {
      "cell_type": "code",
      "source": [
        "%%sql\n",
        "INSERT INTO products (product_ID, product_name, product_price) VALUES\n",
        "    (1, 'Product A', 98000.00),\n",
        "    (2, 'Product B', 70000.00),\n",
        "    (3, 'Product C', 12000.00),\n",
        "    (4, 'Product D', 21500.00),\n",
        "    (5, 'Product E', 43000.00),\n",
        "    (6, 'Product F', 65000.00),\n",
        "    (7, 'Product G', 76000.00),\n",
        "    (8, 'Product H', 88000.00),\n",
        "    (9, 'Product I', 10000.00),\n",
        "    (10, 'Product J', 11000.00);"
      ],
      "metadata": {
        "colab": {
          "base_uri": "https://localhost:8080/"
        },
        "id": "DRM7ENaWLIRn",
        "outputId": "ed533b72-30be-43dc-fb1f-871961fd5c6c"
      },
      "execution_count": 8,
      "outputs": [
        {
          "output_type": "stream",
          "name": "stdout",
          "text": [
            " * sqlite:///ABC.db\n",
            "10 rows affected.\n"
          ]
        },
        {
          "output_type": "execute_result",
          "data": {
            "text/plain": [
              "[]"
            ]
          },
          "metadata": {},
          "execution_count": 8
        }
      ]
    },
    {
      "cell_type": "code",
      "source": [
        "%%sql\n",
        " INSERT INTO orders (order_ID, customer_ID, order_date) VALUES\n",
        "    (1, 1, '2024-01-10'),\n",
        "    (2, 3, '2024-01-20'),\n",
        "    (3, 3, '2024-02-13'),\n",
        "    (4, 10, '2024-01-24'),\n",
        "    (5, 9, '2024-01-25'),\n",
        "    (6, 3, '2024-01-16'),\n",
        "    (7, 4, '2024-01-17'),\n",
        "    (8, 5, '2024-01-16'),\n",
        "    (9, 2, '2024-01-26'),\n",
        "    (10, 7, '2024-02-10'),\n",
        "    (11, 6, '2024-01-29'),\n",
        "    (12, 9, '2024-01-12'),\n",
        "    (13, 10, '2024-02-13'),\n",
        "    (14, 4, '2024-01-18'),\n",
        "    (15, 1, '2024-01-15');"
      ],
      "metadata": {
        "colab": {
          "base_uri": "https://localhost:8080/"
        },
        "id": "X-hE23yAL6nG",
        "outputId": "6459aa50-9c48-45ac-d540-b3f33ad465be"
      },
      "execution_count": 9,
      "outputs": [
        {
          "output_type": "stream",
          "name": "stdout",
          "text": [
            " * sqlite:///ABC.db\n",
            "15 rows affected.\n"
          ]
        },
        {
          "output_type": "execute_result",
          "data": {
            "text/plain": [
              "[]"
            ]
          },
          "metadata": {},
          "execution_count": 9
        }
      ]
    },
    {
      "cell_type": "code",
      "source": [
        "%%sql\n",
        "INSERT INTO order_items (order_ID, product_ID, order_quantity) VALUES\n",
        "    (1, 2, 10),\n",
        "    (2, 2, 10),\n",
        "    (3, 1, 15),\n",
        "    (4, 2, 14),\n",
        "    (5, 1, 11),\n",
        "    (6, 1, 10),\n",
        "    (7, 4, 12),\n",
        "    (8, 6, 5),\n",
        "    (9, 9, 10),\n",
        "    (10, 1, 5),\n",
        "    (11, 3, 6),\n",
        "    (12, 9, 2),\n",
        "    (13, 2, 3),\n",
        "    (14, 6, 3),\n",
        "    (15, 6, 10);"
      ],
      "metadata": {
        "colab": {
          "base_uri": "https://localhost:8080/"
        },
        "id": "_LqnqhqZNNsw",
        "outputId": "0bb75d15-9f5d-4179-c72b-b6eff8efee9d"
      },
      "execution_count": 10,
      "outputs": [
        {
          "output_type": "stream",
          "name": "stdout",
          "text": [
            " * sqlite:///ABC.db\n",
            "15 rows affected.\n"
          ]
        },
        {
          "output_type": "execute_result",
          "data": {
            "text/plain": [
              "[]"
            ]
          },
          "metadata": {},
          "execution_count": 10
        }
      ]
    },
    {
      "cell_type": "code",
      "source": [
        "%%sql\n",
        "SELECT * FROM customers"
      ],
      "metadata": {
        "colab": {
          "base_uri": "https://localhost:8080/",
          "height": 289
        },
        "id": "UU__bIYTQFA0",
        "outputId": "ef060343-5f4e-4c20-a507-d8692a6431a3"
      },
      "execution_count": 11,
      "outputs": [
        {
          "output_type": "stream",
          "name": "stdout",
          "text": [
            " * sqlite:///ABC.db\n",
            "Done.\n"
          ]
        },
        {
          "output_type": "execute_result",
          "data": {
            "text/plain": [
              "[(1, 'Jack', 'San', 'jacksan@email.com'),\n",
              " (2, 'John', 'Sam', 'johnsam@email.com'),\n",
              " (3, 'Bob', 'Tabuke', 'bobtabuke@email.com'),\n",
              " (4, 'Rine', 'Shiko', 'rineshiko@email.com'),\n",
              " (5, 'Emmah', 'Nyamai', 'emmahnyamai@email.com'),\n",
              " (6, 'Victor', 'Korat', 'victorkorat@email.com'),\n",
              " (7, 'Edith', 'Malabi', 'edithmalabi@email.com'),\n",
              " (8, 'Brenda', 'kawira', 'brendakawira@email.com'),\n",
              " (9, 'Kevin', 'Karanja', 'kevinkaranja@email.com'),\n",
              " (10, 'Prudence', 'Joy', 'prudencejoy@email.com')]"
            ],
            "text/html": [
              "<table>\n",
              "    <thead>\n",
              "        <tr>\n",
              "            <th>customer_ID</th>\n",
              "            <th>customer_first_name</th>\n",
              "            <th>customer_last_name</th>\n",
              "            <th>customer_email</th>\n",
              "        </tr>\n",
              "    </thead>\n",
              "    <tbody>\n",
              "        <tr>\n",
              "            <td>1</td>\n",
              "            <td>Jack</td>\n",
              "            <td>San</td>\n",
              "            <td>jacksan@email.com</td>\n",
              "        </tr>\n",
              "        <tr>\n",
              "            <td>2</td>\n",
              "            <td>John</td>\n",
              "            <td>Sam</td>\n",
              "            <td>johnsam@email.com</td>\n",
              "        </tr>\n",
              "        <tr>\n",
              "            <td>3</td>\n",
              "            <td>Bob</td>\n",
              "            <td>Tabuke</td>\n",
              "            <td>bobtabuke@email.com</td>\n",
              "        </tr>\n",
              "        <tr>\n",
              "            <td>4</td>\n",
              "            <td>Rine</td>\n",
              "            <td>Shiko</td>\n",
              "            <td>rineshiko@email.com</td>\n",
              "        </tr>\n",
              "        <tr>\n",
              "            <td>5</td>\n",
              "            <td>Emmah</td>\n",
              "            <td>Nyamai</td>\n",
              "            <td>emmahnyamai@email.com</td>\n",
              "        </tr>\n",
              "        <tr>\n",
              "            <td>6</td>\n",
              "            <td>Victor</td>\n",
              "            <td>Korat</td>\n",
              "            <td>victorkorat@email.com</td>\n",
              "        </tr>\n",
              "        <tr>\n",
              "            <td>7</td>\n",
              "            <td>Edith</td>\n",
              "            <td>Malabi</td>\n",
              "            <td>edithmalabi@email.com</td>\n",
              "        </tr>\n",
              "        <tr>\n",
              "            <td>8</td>\n",
              "            <td>Brenda</td>\n",
              "            <td>kawira</td>\n",
              "            <td>brendakawira@email.com</td>\n",
              "        </tr>\n",
              "        <tr>\n",
              "            <td>9</td>\n",
              "            <td>Kevin</td>\n",
              "            <td>Karanja</td>\n",
              "            <td>kevinkaranja@email.com</td>\n",
              "        </tr>\n",
              "        <tr>\n",
              "            <td>10</td>\n",
              "            <td>Prudence</td>\n",
              "            <td>Joy</td>\n",
              "            <td>prudencejoy@email.com</td>\n",
              "        </tr>\n",
              "    </tbody>\n",
              "</table>"
            ]
          },
          "metadata": {},
          "execution_count": 11
        }
      ]
    },
    {
      "cell_type": "code",
      "source": [
        "%%sql\n",
        "SELECT * FROM products"
      ],
      "metadata": {
        "colab": {
          "base_uri": "https://localhost:8080/",
          "height": 289
        },
        "id": "8u0dCa2XQNi7",
        "outputId": "e965065c-06a1-4c8c-cb35-0f30e3a7a655"
      },
      "execution_count": 12,
      "outputs": [
        {
          "output_type": "stream",
          "name": "stdout",
          "text": [
            " * sqlite:///ABC.db\n",
            "Done.\n"
          ]
        },
        {
          "output_type": "execute_result",
          "data": {
            "text/plain": [
              "[(1, 'Product A', '98000.0'),\n",
              " (2, 'Product B', '70000.0'),\n",
              " (3, 'Product C', '12000.0'),\n",
              " (4, 'Product D', '21500.0'),\n",
              " (5, 'Product E', '43000.0'),\n",
              " (6, 'Product F', '65000.0'),\n",
              " (7, 'Product G', '76000.0'),\n",
              " (8, 'Product H', '88000.0'),\n",
              " (9, 'Product I', '10000.0'),\n",
              " (10, 'Product J', '11000.0')]"
            ],
            "text/html": [
              "<table>\n",
              "    <thead>\n",
              "        <tr>\n",
              "            <th>product_ID</th>\n",
              "            <th>product_name</th>\n",
              "            <th>product_price</th>\n",
              "        </tr>\n",
              "    </thead>\n",
              "    <tbody>\n",
              "        <tr>\n",
              "            <td>1</td>\n",
              "            <td>Product A</td>\n",
              "            <td>98000.0</td>\n",
              "        </tr>\n",
              "        <tr>\n",
              "            <td>2</td>\n",
              "            <td>Product B</td>\n",
              "            <td>70000.0</td>\n",
              "        </tr>\n",
              "        <tr>\n",
              "            <td>3</td>\n",
              "            <td>Product C</td>\n",
              "            <td>12000.0</td>\n",
              "        </tr>\n",
              "        <tr>\n",
              "            <td>4</td>\n",
              "            <td>Product D</td>\n",
              "            <td>21500.0</td>\n",
              "        </tr>\n",
              "        <tr>\n",
              "            <td>5</td>\n",
              "            <td>Product E</td>\n",
              "            <td>43000.0</td>\n",
              "        </tr>\n",
              "        <tr>\n",
              "            <td>6</td>\n",
              "            <td>Product F</td>\n",
              "            <td>65000.0</td>\n",
              "        </tr>\n",
              "        <tr>\n",
              "            <td>7</td>\n",
              "            <td>Product G</td>\n",
              "            <td>76000.0</td>\n",
              "        </tr>\n",
              "        <tr>\n",
              "            <td>8</td>\n",
              "            <td>Product H</td>\n",
              "            <td>88000.0</td>\n",
              "        </tr>\n",
              "        <tr>\n",
              "            <td>9</td>\n",
              "            <td>Product I</td>\n",
              "            <td>10000.0</td>\n",
              "        </tr>\n",
              "        <tr>\n",
              "            <td>10</td>\n",
              "            <td>Product J</td>\n",
              "            <td>11000.0</td>\n",
              "        </tr>\n",
              "    </tbody>\n",
              "</table>"
            ]
          },
          "metadata": {},
          "execution_count": 12
        }
      ]
    },
    {
      "cell_type": "code",
      "source": [
        "%%sql\n",
        "SELECT * FROM orders"
      ],
      "metadata": {
        "colab": {
          "base_uri": "https://localhost:8080/",
          "height": 395
        },
        "id": "pNrqJpINQVEr",
        "outputId": "6df5d18b-e3e7-4e92-f6fa-8ddbe431f2bd"
      },
      "execution_count": 13,
      "outputs": [
        {
          "output_type": "stream",
          "name": "stdout",
          "text": [
            " * sqlite:///ABC.db\n",
            "Done.\n"
          ]
        },
        {
          "output_type": "execute_result",
          "data": {
            "text/plain": [
              "[(1, '1', '2024-01-10'),\n",
              " (2, '3', '2024-01-20'),\n",
              " (3, '3', '2024-02-13'),\n",
              " (4, '10', '2024-01-24'),\n",
              " (5, '9', '2024-01-25'),\n",
              " (6, '3', '2024-01-16'),\n",
              " (7, '4', '2024-01-17'),\n",
              " (8, '5', '2024-01-16'),\n",
              " (9, '2', '2024-01-26'),\n",
              " (10, '7', '2024-02-10'),\n",
              " (11, '6', '2024-01-29'),\n",
              " (12, '9', '2024-01-12'),\n",
              " (13, '10', '2024-02-13'),\n",
              " (14, '4', '2024-01-18'),\n",
              " (15, '1', '2024-01-15')]"
            ],
            "text/html": [
              "<table>\n",
              "    <thead>\n",
              "        <tr>\n",
              "            <th>order_ID</th>\n",
              "            <th>customer_ID</th>\n",
              "            <th>order_date</th>\n",
              "        </tr>\n",
              "    </thead>\n",
              "    <tbody>\n",
              "        <tr>\n",
              "            <td>1</td>\n",
              "            <td>1</td>\n",
              "            <td>2024-01-10</td>\n",
              "        </tr>\n",
              "        <tr>\n",
              "            <td>2</td>\n",
              "            <td>3</td>\n",
              "            <td>2024-01-20</td>\n",
              "        </tr>\n",
              "        <tr>\n",
              "            <td>3</td>\n",
              "            <td>3</td>\n",
              "            <td>2024-02-13</td>\n",
              "        </tr>\n",
              "        <tr>\n",
              "            <td>4</td>\n",
              "            <td>10</td>\n",
              "            <td>2024-01-24</td>\n",
              "        </tr>\n",
              "        <tr>\n",
              "            <td>5</td>\n",
              "            <td>9</td>\n",
              "            <td>2024-01-25</td>\n",
              "        </tr>\n",
              "        <tr>\n",
              "            <td>6</td>\n",
              "            <td>3</td>\n",
              "            <td>2024-01-16</td>\n",
              "        </tr>\n",
              "        <tr>\n",
              "            <td>7</td>\n",
              "            <td>4</td>\n",
              "            <td>2024-01-17</td>\n",
              "        </tr>\n",
              "        <tr>\n",
              "            <td>8</td>\n",
              "            <td>5</td>\n",
              "            <td>2024-01-16</td>\n",
              "        </tr>\n",
              "        <tr>\n",
              "            <td>9</td>\n",
              "            <td>2</td>\n",
              "            <td>2024-01-26</td>\n",
              "        </tr>\n",
              "        <tr>\n",
              "            <td>10</td>\n",
              "            <td>7</td>\n",
              "            <td>2024-02-10</td>\n",
              "        </tr>\n",
              "        <tr>\n",
              "            <td>11</td>\n",
              "            <td>6</td>\n",
              "            <td>2024-01-29</td>\n",
              "        </tr>\n",
              "        <tr>\n",
              "            <td>12</td>\n",
              "            <td>9</td>\n",
              "            <td>2024-01-12</td>\n",
              "        </tr>\n",
              "        <tr>\n",
              "            <td>13</td>\n",
              "            <td>10</td>\n",
              "            <td>2024-02-13</td>\n",
              "        </tr>\n",
              "        <tr>\n",
              "            <td>14</td>\n",
              "            <td>4</td>\n",
              "            <td>2024-01-18</td>\n",
              "        </tr>\n",
              "        <tr>\n",
              "            <td>15</td>\n",
              "            <td>1</td>\n",
              "            <td>2024-01-15</td>\n",
              "        </tr>\n",
              "    </tbody>\n",
              "</table>"
            ]
          },
          "metadata": {},
          "execution_count": 13
        }
      ]
    },
    {
      "cell_type": "code",
      "source": [
        "%%sql\n",
        "SELECT * FROM order_items"
      ],
      "metadata": {
        "colab": {
          "base_uri": "https://localhost:8080/",
          "height": 395
        },
        "id": "WjO308qJQdhX",
        "outputId": "d9e14656-367f-4c00-dccf-ec575c2da91b"
      },
      "execution_count": 14,
      "outputs": [
        {
          "output_type": "stream",
          "name": "stdout",
          "text": [
            " * sqlite:///ABC.db\n",
            "Done.\n"
          ]
        },
        {
          "output_type": "execute_result",
          "data": {
            "text/plain": [
              "[(1, '2', '10'),\n",
              " (2, '2', '10'),\n",
              " (3, '1', '15'),\n",
              " (4, '2', '14'),\n",
              " (5, '1', '11'),\n",
              " (6, '1', '10'),\n",
              " (7, '4', '12'),\n",
              " (8, '6', '5'),\n",
              " (9, '9', '10'),\n",
              " (10, '1', '5'),\n",
              " (11, '3', '6'),\n",
              " (12, '9', '2'),\n",
              " (13, '2', '3'),\n",
              " (14, '6', '3'),\n",
              " (15, '6', '10')]"
            ],
            "text/html": [
              "<table>\n",
              "    <thead>\n",
              "        <tr>\n",
              "            <th>order_ID</th>\n",
              "            <th>product_ID</th>\n",
              "            <th>order_quantity</th>\n",
              "        </tr>\n",
              "    </thead>\n",
              "    <tbody>\n",
              "        <tr>\n",
              "            <td>1</td>\n",
              "            <td>2</td>\n",
              "            <td>10</td>\n",
              "        </tr>\n",
              "        <tr>\n",
              "            <td>2</td>\n",
              "            <td>2</td>\n",
              "            <td>10</td>\n",
              "        </tr>\n",
              "        <tr>\n",
              "            <td>3</td>\n",
              "            <td>1</td>\n",
              "            <td>15</td>\n",
              "        </tr>\n",
              "        <tr>\n",
              "            <td>4</td>\n",
              "            <td>2</td>\n",
              "            <td>14</td>\n",
              "        </tr>\n",
              "        <tr>\n",
              "            <td>5</td>\n",
              "            <td>1</td>\n",
              "            <td>11</td>\n",
              "        </tr>\n",
              "        <tr>\n",
              "            <td>6</td>\n",
              "            <td>1</td>\n",
              "            <td>10</td>\n",
              "        </tr>\n",
              "        <tr>\n",
              "            <td>7</td>\n",
              "            <td>4</td>\n",
              "            <td>12</td>\n",
              "        </tr>\n",
              "        <tr>\n",
              "            <td>8</td>\n",
              "            <td>6</td>\n",
              "            <td>5</td>\n",
              "        </tr>\n",
              "        <tr>\n",
              "            <td>9</td>\n",
              "            <td>9</td>\n",
              "            <td>10</td>\n",
              "        </tr>\n",
              "        <tr>\n",
              "            <td>10</td>\n",
              "            <td>1</td>\n",
              "            <td>5</td>\n",
              "        </tr>\n",
              "        <tr>\n",
              "            <td>11</td>\n",
              "            <td>3</td>\n",
              "            <td>6</td>\n",
              "        </tr>\n",
              "        <tr>\n",
              "            <td>12</td>\n",
              "            <td>9</td>\n",
              "            <td>2</td>\n",
              "        </tr>\n",
              "        <tr>\n",
              "            <td>13</td>\n",
              "            <td>2</td>\n",
              "            <td>3</td>\n",
              "        </tr>\n",
              "        <tr>\n",
              "            <td>14</td>\n",
              "            <td>6</td>\n",
              "            <td>3</td>\n",
              "        </tr>\n",
              "        <tr>\n",
              "            <td>15</td>\n",
              "            <td>6</td>\n",
              "            <td>10</td>\n",
              "        </tr>\n",
              "    </tbody>\n",
              "</table>"
            ]
          },
          "metadata": {},
          "execution_count": 14
        }
      ]
    },
    {
      "cell_type": "markdown",
      "source": [
        "Select product with the highest price."
      ],
      "metadata": {
        "id": "l-anEQ9fUV1h"
      }
    },
    {
      "cell_type": "code",
      "source": [
        "%%sql\n",
        "SELECT * FROM products ORDER BY product_price DESC limit 1"
      ],
      "metadata": {
        "colab": {
          "base_uri": "https://localhost:8080/",
          "height": 96
        },
        "id": "VaZDxJG5Ud0_",
        "outputId": "c0de522f-1b72-4afa-fa84-29f60dd820c0"
      },
      "execution_count": 15,
      "outputs": [
        {
          "output_type": "stream",
          "name": "stdout",
          "text": [
            " * sqlite:///ABC.db\n",
            "Done.\n"
          ]
        },
        {
          "output_type": "execute_result",
          "data": {
            "text/plain": [
              "[(1, 'Product A', '98000.0')]"
            ],
            "text/html": [
              "<table>\n",
              "    <thead>\n",
              "        <tr>\n",
              "            <th>product_ID</th>\n",
              "            <th>product_name</th>\n",
              "            <th>product_price</th>\n",
              "        </tr>\n",
              "    </thead>\n",
              "    <tbody>\n",
              "        <tr>\n",
              "            <td>1</td>\n",
              "            <td>Product A</td>\n",
              "            <td>98000.0</td>\n",
              "        </tr>\n",
              "    </tbody>\n",
              "</table>"
            ]
          },
          "metadata": {},
          "execution_count": 15
        }
      ]
    },
    {
      "cell_type": "markdown",
      "source": [
        "Select order_id with highest no. of items interms of quantity."
      ],
      "metadata": {
        "id": "YzDICwxaZhhS"
      }
    },
    {
      "cell_type": "code",
      "source": [
        "%%sql\n",
        "SELECT order_ID, COUNT(*) FROM order_items GROUP BY order_quantity"
      ],
      "metadata": {
        "colab": {
          "base_uri": "https://localhost:8080/",
          "height": 267
        },
        "id": "DdwtmPjPZ1FO",
        "outputId": "57409613-d5b1-43c0-94b2-2dd5de1236b9"
      },
      "execution_count": 27,
      "outputs": [
        {
          "output_type": "stream",
          "name": "stdout",
          "text": [
            " * sqlite:///ABC.db\n",
            "Done.\n"
          ]
        },
        {
          "output_type": "execute_result",
          "data": {
            "text/plain": [
              "[(1, 5), (5, 1), (7, 1), (4, 1), (3, 1), (12, 1), (13, 2), (8, 2), (11, 1)]"
            ],
            "text/html": [
              "<table>\n",
              "    <thead>\n",
              "        <tr>\n",
              "            <th>order_ID</th>\n",
              "            <th>COUNT(*)</th>\n",
              "        </tr>\n",
              "    </thead>\n",
              "    <tbody>\n",
              "        <tr>\n",
              "            <td>1</td>\n",
              "            <td>5</td>\n",
              "        </tr>\n",
              "        <tr>\n",
              "            <td>5</td>\n",
              "            <td>1</td>\n",
              "        </tr>\n",
              "        <tr>\n",
              "            <td>7</td>\n",
              "            <td>1</td>\n",
              "        </tr>\n",
              "        <tr>\n",
              "            <td>4</td>\n",
              "            <td>1</td>\n",
              "        </tr>\n",
              "        <tr>\n",
              "            <td>3</td>\n",
              "            <td>1</td>\n",
              "        </tr>\n",
              "        <tr>\n",
              "            <td>12</td>\n",
              "            <td>1</td>\n",
              "        </tr>\n",
              "        <tr>\n",
              "            <td>13</td>\n",
              "            <td>2</td>\n",
              "        </tr>\n",
              "        <tr>\n",
              "            <td>8</td>\n",
              "            <td>2</td>\n",
              "        </tr>\n",
              "        <tr>\n",
              "            <td>11</td>\n",
              "            <td>1</td>\n",
              "        </tr>\n",
              "    </tbody>\n",
              "</table>"
            ]
          },
          "metadata": {},
          "execution_count": 27
        }
      ]
    },
    {
      "cell_type": "code",
      "source": [
        "%%sql\n",
        "WITH order_counts AS (\n",
        "  SELECT customer_ID, COUNT(order_ID) AS order_count\n",
        "  FROM orders\n",
        "  GROUP BY customer_ID\n",
        "),\n",
        "max_order_count AS (\n",
        "  SELECT MAX(order_count) AS max_count\n",
        "  FROM order_counts\n",
        ")\n",
        "SELECT c.customer_first_name, c.customer_last_name\n",
        "FROM customers c\n",
        "JOIN order_counts oc ON c.customer_ID = oc.customer_ID\n",
        "JOIN max_order_count moc ON oc.order_count = moc.max_count;"
      ],
      "metadata": {
        "colab": {
          "base_uri": "https://localhost:8080/",
          "height": 96
        },
        "id": "E75gp9F2cVJc",
        "outputId": "e237f232-de7f-4db7-e3d7-608065dec228"
      },
      "execution_count": 31,
      "outputs": [
        {
          "output_type": "stream",
          "name": "stdout",
          "text": [
            " * sqlite:///ABC.db\n",
            "Done.\n"
          ]
        },
        {
          "output_type": "execute_result",
          "data": {
            "text/plain": [
              "[('Bob', 'Tabuke')]"
            ],
            "text/html": [
              "<table>\n",
              "    <thead>\n",
              "        <tr>\n",
              "            <th>customer_first_name</th>\n",
              "            <th>customer_last_name</th>\n",
              "        </tr>\n",
              "    </thead>\n",
              "    <tbody>\n",
              "        <tr>\n",
              "            <td>Bob</td>\n",
              "            <td>Tabuke</td>\n",
              "        </tr>\n",
              "    </tbody>\n",
              "</table>"
            ]
          },
          "metadata": {},
          "execution_count": 31
        }
      ]
    },
    {
      "cell_type": "markdown",
      "source": [
        "Total revenue per product."
      ],
      "metadata": {
        "id": "z-1EODIelbqe"
      }
    },
    {
      "cell_type": "code",
      "source": [
        "%%sql\n",
        "SELECT p.product_name,\n",
        "       p.product_price * SUM(oi.order_quantity) AS total_revenue\n",
        "FROM products p\n",
        "JOIN order_items oi ON oi.product_id = p.product_id\n",
        "GROUP BY p.product_name, p.product_price\n",
        "ORDER BY 2 DESC;"
      ],
      "metadata": {
        "colab": {
          "base_uri": "https://localhost:8080/",
          "height": 203
        },
        "id": "zwTelZNmljkL",
        "outputId": "15842ff1-527b-442a-a377-1583ed4e64c2"
      },
      "execution_count": 35,
      "outputs": [
        {
          "output_type": "stream",
          "name": "stdout",
          "text": [
            " * sqlite:///ABC.db\n",
            "Done.\n"
          ]
        },
        {
          "output_type": "execute_result",
          "data": {
            "text/plain": [
              "[('Product A', 4018000.0),\n",
              " ('Product B', 2590000.0),\n",
              " ('Product F', 1170000.0),\n",
              " ('Product D', 258000.0),\n",
              " ('Product I', 120000.0),\n",
              " ('Product C', 72000.0)]"
            ],
            "text/html": [
              "<table>\n",
              "    <thead>\n",
              "        <tr>\n",
              "            <th>product_name</th>\n",
              "            <th>total_revenue</th>\n",
              "        </tr>\n",
              "    </thead>\n",
              "    <tbody>\n",
              "        <tr>\n",
              "            <td>Product A</td>\n",
              "            <td>4018000.0</td>\n",
              "        </tr>\n",
              "        <tr>\n",
              "            <td>Product B</td>\n",
              "            <td>2590000.0</td>\n",
              "        </tr>\n",
              "        <tr>\n",
              "            <td>Product F</td>\n",
              "            <td>1170000.0</td>\n",
              "        </tr>\n",
              "        <tr>\n",
              "            <td>Product D</td>\n",
              "            <td>258000.0</td>\n",
              "        </tr>\n",
              "        <tr>\n",
              "            <td>Product I</td>\n",
              "            <td>120000.0</td>\n",
              "        </tr>\n",
              "        <tr>\n",
              "            <td>Product C</td>\n",
              "            <td>72000.0</td>\n",
              "        </tr>\n",
              "    </tbody>\n",
              "</table>"
            ]
          },
          "metadata": {},
          "execution_count": 35
        }
      ]
    }
  ]
}